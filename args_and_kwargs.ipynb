{
 "cells": [
  {
   "cell_type": "markdown",
   "metadata": {},
   "source": [
    "## A brief explanation of Python function arguments\n",
    "\n",
    "### A function defined with no arguments won't accept named or positional arguments"
   ]
  },
  {
   "cell_type": "code",
   "execution_count": 1,
   "metadata": {},
   "outputs": [
    {
     "ename": "TypeError",
     "evalue": "function_with_no_arguments() takes 0 positional arguments but 3 were given",
     "output_type": "error",
     "traceback": [
      "\u001b[1;31m---------------------------------------------------------------------------\u001b[0m",
      "\u001b[1;31mTypeError\u001b[0m                                 Traceback (most recent call last)",
      "\u001b[1;32m<ipython-input-1-bfdf82a5c190>\u001b[0m in \u001b[0;36m<module>\u001b[1;34m()\u001b[0m\n\u001b[0;32m      3\u001b[0m \u001b[1;33m\u001b[0m\u001b[0m\n\u001b[0;32m      4\u001b[0m \u001b[1;31m# This will error.\u001b[0m\u001b[1;33m\u001b[0m\u001b[1;33m\u001b[0m\u001b[0m\n\u001b[1;32m----> 5\u001b[1;33m \u001b[0mfunction_with_no_arguments\u001b[0m\u001b[1;33m(\u001b[0m\u001b[1;36m1\u001b[0m\u001b[1;33m,\u001b[0m\u001b[1;36m2\u001b[0m\u001b[1;33m,\u001b[0m\u001b[1;36m3\u001b[0m\u001b[1;33m)\u001b[0m\u001b[1;33m\u001b[0m\u001b[0m\n\u001b[0m",
      "\u001b[1;31mTypeError\u001b[0m: function_with_no_arguments() takes 0 positional arguments but 3 were given"
     ]
    }
   ],
   "source": [
    "def function_with_no_arguments():\n",
    "    print(\"Nice function!\")\n",
    "\n",
    "# This will error.\n",
    "function_with_no_arguments(1,2,3)"
   ]
  },
  {
   "cell_type": "code",
   "execution_count": 2,
   "metadata": {},
   "outputs": [
    {
     "ename": "TypeError",
     "evalue": "function_with_no_arguments() got an unexpected keyword argument 'named_arg'",
     "output_type": "error",
     "traceback": [
      "\u001b[1;31m---------------------------------------------------------------------------\u001b[0m",
      "\u001b[1;31mTypeError\u001b[0m                                 Traceback (most recent call last)",
      "\u001b[1;32m<ipython-input-2-f9ddc6d5f4e1>\u001b[0m in \u001b[0;36m<module>\u001b[1;34m()\u001b[0m\n\u001b[0;32m      1\u001b[0m \u001b[1;31m# This will also error\u001b[0m\u001b[1;33m\u001b[0m\u001b[1;33m\u001b[0m\u001b[0m\n\u001b[1;32m----> 2\u001b[1;33m \u001b[0mfunction_with_no_arguments\u001b[0m\u001b[1;33m(\u001b[0m\u001b[0mnamed_arg\u001b[0m \u001b[1;33m=\u001b[0m \u001b[1;36m1\u001b[0m\u001b[1;33m)\u001b[0m\u001b[1;33m\u001b[0m\u001b[0m\n\u001b[0m",
      "\u001b[1;31mTypeError\u001b[0m: function_with_no_arguments() got an unexpected keyword argument 'named_arg'"
     ]
    }
   ],
   "source": [
    "# This will also error\n",
    "function_with_no_arguments(named_arg = 1)"
   ]
  },
  {
   "cell_type": "code",
   "execution_count": 3,
   "metadata": {},
   "outputs": [
    {
     "name": "stdout",
     "output_type": "stream",
     "text": [
      "Nice function!\n"
     ]
    }
   ],
   "source": [
    "# Only this will work\n",
    "function_with_no_arguments()"
   ]
  },
  {
   "cell_type": "markdown",
   "metadata": {},
   "source": [
    "### Positional arguments can be defined by keyword"
   ]
  },
  {
   "cell_type": "code",
   "execution_count": 4,
   "metadata": {
    "collapsed": true
   },
   "outputs": [],
   "source": [
    "def function_with_pos_arguments(first_pos_arg, second_pos_arg):\n",
    "    \n",
    "    print(\"1st arg = {}\".format(first_pos_arg))\n",
    "    print(\"2nd arg = {}\".format(second_pos_arg))"
   ]
  },
  {
   "cell_type": "markdown",
   "metadata": {},
   "source": [
    "> \n",
    "Positional arguments can be called implicitly, i.e. the ordering of the arguments supplied when calling the function matches the order they are specified in the function defininion:"
   ]
  },
  {
   "cell_type": "code",
   "execution_count": 5,
   "metadata": {},
   "outputs": [
    {
     "name": "stdout",
     "output_type": "stream",
     "text": [
      "1st arg = my first arg\n",
      "2nd arg = my 2nd arg\n"
     ]
    }
   ],
   "source": [
    "function_with_pos_arguments(\"my first arg\",\"my 2nd arg\")"
   ]
  },
  {
   "cell_type": "markdown",
   "metadata": {},
   "source": [
    "> Alternatively, they can be specified by name, in which case the order they are entered doesn't matter:"
   ]
  },
  {
   "cell_type": "code",
   "execution_count": 6,
   "metadata": {},
   "outputs": [
    {
     "name": "stdout",
     "output_type": "stream",
     "text": [
      "1st arg = my 1st arg\n",
      "2nd arg = my second arg\n"
     ]
    }
   ],
   "source": [
    "function_with_pos_arguments(second_pos_arg = \"my second arg\", first_pos_arg = \"my 1st arg\")"
   ]
  },
  {
   "cell_type": "markdown",
   "metadata": {},
   "source": [
    "> If the ability to add additional arguments is not provided for (see \\*args and \\*\\*kwargs below), you can't enter more or less than the exact number of args specified: "
   ]
  },
  {
   "cell_type": "code",
   "execution_count": 7,
   "metadata": {},
   "outputs": [
    {
     "ename": "TypeError",
     "evalue": "function_with_pos_arguments() takes 2 positional arguments but 3 were given",
     "output_type": "error",
     "traceback": [
      "\u001b[1;31m---------------------------------------------------------------------------\u001b[0m",
      "\u001b[1;31mTypeError\u001b[0m                                 Traceback (most recent call last)",
      "\u001b[1;32m<ipython-input-7-820f6913c3e0>\u001b[0m in \u001b[0;36m<module>\u001b[1;34m()\u001b[0m\n\u001b[0;32m      1\u001b[0m \u001b[1;31m# This will error.\u001b[0m\u001b[1;33m\u001b[0m\u001b[1;33m\u001b[0m\u001b[0m\n\u001b[1;32m----> 2\u001b[1;33m \u001b[0mfunction_with_pos_arguments\u001b[0m\u001b[1;33m(\u001b[0m\u001b[1;34m\"my first arg\"\u001b[0m\u001b[1;33m,\u001b[0m \u001b[1;34m\"my 2nd arg\"\u001b[0m\u001b[1;33m,\u001b[0m \u001b[1;34m\"random 3rd arg\"\u001b[0m\u001b[1;33m)\u001b[0m\u001b[1;33m\u001b[0m\u001b[0m\n\u001b[0m",
      "\u001b[1;31mTypeError\u001b[0m: function_with_pos_arguments() takes 2 positional arguments but 3 were given"
     ]
    }
   ],
   "source": [
    "# This will error.\n",
    "function_with_pos_arguments(\"my first arg\", \"my 2nd arg\", \"random 3rd arg\")"
   ]
  },
  {
   "cell_type": "code",
   "execution_count": 8,
   "metadata": {},
   "outputs": [
    {
     "ename": "TypeError",
     "evalue": "function_with_pos_arguments() missing 1 required positional argument: 'second_pos_arg'",
     "output_type": "error",
     "traceback": [
      "\u001b[1;31m---------------------------------------------------------------------------\u001b[0m",
      "\u001b[1;31mTypeError\u001b[0m                                 Traceback (most recent call last)",
      "\u001b[1;32m<ipython-input-8-f4e1d3cc0f92>\u001b[0m in \u001b[0;36m<module>\u001b[1;34m()\u001b[0m\n\u001b[0;32m      1\u001b[0m \u001b[1;31m# This will also error.\u001b[0m\u001b[1;33m\u001b[0m\u001b[1;33m\u001b[0m\u001b[0m\n\u001b[1;32m----> 2\u001b[1;33m \u001b[0mfunction_with_pos_arguments\u001b[0m\u001b[1;33m(\u001b[0m\u001b[1;34m\"first arg only\"\u001b[0m\u001b[1;33m)\u001b[0m\u001b[1;33m\u001b[0m\u001b[0m\n\u001b[0m",
      "\u001b[1;31mTypeError\u001b[0m: function_with_pos_arguments() missing 1 required positional argument: 'second_pos_arg'"
     ]
    }
   ],
   "source": [
    "# This will also error.\n",
    "function_with_pos_arguments(\"first arg only\")"
   ]
  },
  {
   "cell_type": "markdown",
   "metadata": {},
   "source": [
    "### Default values can be set\n",
    "> This allows you to call the function without specifying a value, in which case the default value is used, or a value can be supplied to override the default. "
   ]
  },
  {
   "cell_type": "code",
   "execution_count": 9,
   "metadata": {
    "collapsed": true
   },
   "outputs": [],
   "source": [
    "def function_with_default_arguments(first_pos_arg, second_pos_arg = \"this is default 2nd arg\"):\n",
    "    \n",
    "    print(\"1st arg = {}\".format(first_pos_arg))\n",
    "    print(\"2nd arg = {}\".format(second_pos_arg))"
   ]
  },
  {
   "cell_type": "markdown",
   "metadata": {},
   "source": [
    "> Don't specify the second argument and the default will be used:"
   ]
  },
  {
   "cell_type": "code",
   "execution_count": 10,
   "metadata": {},
   "outputs": [
    {
     "name": "stdout",
     "output_type": "stream",
     "text": [
      "1st arg = 1st arg specified only\n",
      "2nd arg = this is default 2nd arg\n"
     ]
    }
   ],
   "source": [
    "function_with_default_arguments(\"1st arg specified only\")"
   ]
  },
  {
   "cell_type": "markdown",
   "metadata": {},
   "source": [
    "> Or the default can be overwritten when calling."
   ]
  },
  {
   "cell_type": "code",
   "execution_count": 11,
   "metadata": {},
   "outputs": [
    {
     "name": "stdout",
     "output_type": "stream",
     "text": [
      "1st arg = 1st arg\n",
      "2nd arg = override 2nd arg\n"
     ]
    }
   ],
   "source": [
    "function_with_default_arguments(\"1st arg\", \"override 2nd arg\")"
   ]
  },
  {
   "cell_type": "markdown",
   "metadata": {},
   "source": [
    "> But be careful with mutable default arguments!"
   ]
  },
  {
   "cell_type": "code",
   "execution_count": 12,
   "metadata": {
    "collapsed": true
   },
   "outputs": [],
   "source": [
    "# A function that returns a list, defined as empty in the arg default.\n",
    "def function_with_mutable_default(first_pos_arg = []):\n",
    "    return first_pos_arg"
   ]
  },
  {
   "cell_type": "code",
   "execution_count": 13,
   "metadata": {},
   "outputs": [
    {
     "data": {
      "text/plain": [
       "[]"
      ]
     },
     "execution_count": 13,
     "metadata": {},
     "output_type": "execute_result"
    }
   ],
   "source": [
    "# Use the function.\n",
    "instance1 = function_with_mutable_default()\n",
    "instance1"
   ]
  },
  {
   "cell_type": "code",
   "execution_count": 14,
   "metadata": {},
   "outputs": [
    {
     "data": {
      "text/plain": [
       "['test']"
      ]
     },
     "execution_count": 14,
     "metadata": {},
     "output_type": "execute_result"
    }
   ],
   "source": [
    "# Mutate the result.\n",
    "instance1.append(\"test\")\n",
    "instance1"
   ]
  },
  {
   "cell_type": "code",
   "execution_count": 15,
   "metadata": {},
   "outputs": [
    {
     "data": {
      "text/plain": [
       "['test']"
      ]
     },
     "execution_count": 15,
     "metadata": {},
     "output_type": "execute_result"
    }
   ],
   "source": [
    "# Use the function again - the function default has changed!\n",
    "instance2 = function_with_mutable_default()\n",
    "instance2"
   ]
  },
  {
   "cell_type": "code",
   "execution_count": 16,
   "metadata": {},
   "outputs": [
    {
     "data": {
      "text/plain": [
       "True"
      ]
     },
     "execution_count": 16,
     "metadata": {},
     "output_type": "execute_result"
    }
   ],
   "source": [
    "instance1 is instance2"
   ]
  },
  {
   "cell_type": "markdown",
   "metadata": {},
   "source": [
    "> A simple fix to this is to define the default as `None`:"
   ]
  },
  {
   "cell_type": "code",
   "execution_count": 17,
   "metadata": {
    "collapsed": true
   },
   "outputs": [],
   "source": [
    "# A function that returns a list, defined as None by default.\n",
    "def function_with_non_mutable_default(first_pos_arg = None):\n",
    "    if first_pos_arg == None:\n",
    "        first_pos_arg = []\n",
    "    return first_pos_arg"
   ]
  },
  {
   "cell_type": "code",
   "execution_count": 18,
   "metadata": {},
   "outputs": [
    {
     "data": {
      "text/plain": [
       "[]"
      ]
     },
     "execution_count": 18,
     "metadata": {},
     "output_type": "execute_result"
    }
   ],
   "source": [
    "# Use the function.\n",
    "instance1 = function_with_non_mutable_default()\n",
    "instance1"
   ]
  },
  {
   "cell_type": "code",
   "execution_count": 19,
   "metadata": {},
   "outputs": [
    {
     "data": {
      "text/plain": [
       "['test']"
      ]
     },
     "execution_count": 19,
     "metadata": {},
     "output_type": "execute_result"
    }
   ],
   "source": [
    "# Mutate the result.\n",
    "instance1.append(\"test\")\n",
    "instance1"
   ]
  },
  {
   "cell_type": "code",
   "execution_count": 20,
   "metadata": {},
   "outputs": [
    {
     "data": {
      "text/plain": [
       "[]"
      ]
     },
     "execution_count": 20,
     "metadata": {},
     "output_type": "execute_result"
    }
   ],
   "source": [
    "# Use the function again; now the empty list is returned.\n",
    "instance2 = function_with_non_mutable_default()\n",
    "instance2"
   ]
  },
  {
   "cell_type": "code",
   "execution_count": 21,
   "metadata": {},
   "outputs": [
    {
     "data": {
      "text/plain": [
       "False"
      ]
     },
     "execution_count": 21,
     "metadata": {},
     "output_type": "execute_result"
    }
   ],
   "source": [
    "instance1 is instance2"
   ]
  },
  {
   "cell_type": "markdown",
   "metadata": {},
   "source": [
    "### Positional arguments - *args\n",
    "> Variable quantities of positional arguments are set with *args:"
   ]
  },
  {
   "cell_type": "code",
   "execution_count": 22,
   "metadata": {},
   "outputs": [
    {
     "name": "stdout",
     "output_type": "stream",
     "text": [
      "arg 1 = 1\n",
      "arg 2 = 2\n",
      "arg 3 = 3\n",
      "arg 4 = 4\n",
      "arg 5 = 5\n",
      "keyword_arg = new kw arg value\n"
     ]
    }
   ],
   "source": [
    "def some_positional_arguments(*args, keyword_arg = \"this comes after positional args\"):\n",
    "    count = 1\n",
    "    for arg in args:\n",
    "        print(\"arg {} = {}\".format(count, arg))\n",
    "        count += 1\n",
    "    print(\"keyword_arg = {}\".format(keyword_arg))\n",
    "    \n",
    "some_positional_arguments(1,2,3,4,5, keyword_arg = \"new kw arg value\")"
   ]
  },
  {
   "cell_type": "markdown",
   "metadata": {},
   "source": [
    "### Keyword arguments - **kwargs\n",
    "> Variable quantities of unspecified keyword arguments are set with **kwargs:"
   ]
  },
  {
   "cell_type": "code",
   "execution_count": 23,
   "metadata": {},
   "outputs": [
    {
     "name": "stdout",
     "output_type": "stream",
     "text": [
      "Postional arg 1 = 1\n",
      "Postional arg 2 = 2\n",
      "Postional arg 3 = 3\n",
      "Function defined keyword arg = new kw arg value\n",
      "User specified keyword: made_up_kwarg = this is a kwarg\n",
      "User specified keyword: another_kwarg = so is this\n"
     ]
    }
   ],
   "source": [
    "def some_kw_arguments(*args, function_defined_keyword_arg = None, **kwargs):\n",
    "    \n",
    "    arg_count = 1\n",
    "    for arg in args:\n",
    "        print(\"Postional arg {} = {}\".format(arg_count, arg))\n",
    "        arg_count += 1\n",
    "        \n",
    "    print(\"Function defined keyword arg = {}\".format(function_defined_keyword_arg))\n",
    "    \n",
    "    for kwarg in kwargs:\n",
    "        print(\"User specified keyword: {} = {}\".format(kwarg, kwargs[kwarg]))\n",
    "\n",
    "some_kw_arguments(1,2,3,\n",
    "                  function_defined_keyword_arg = \"new kw arg value\",\n",
    "                  made_up_kwarg = \"this is a kwarg\",\n",
    "                  another_kwarg = \"so is this\")"
   ]
  },
  {
   "cell_type": "markdown",
   "metadata": {},
   "source": [
    "> Code can be added to the function to check for specific keyword arguments, and raise errors if any additional unknown kwargs have been supplied:"
   ]
  },
  {
   "cell_type": "code",
   "execution_count": 24,
   "metadata": {},
   "outputs": [
    {
     "name": "stdout",
     "output_type": "stream",
     "text": [
      "Cat = Mr Meow\n",
      "Dog = Woofy\n"
     ]
    }
   ],
   "source": [
    "def check_kw_arguments(**kwargs):\n",
    "    \n",
    "    \"\"\"Valid keyword args are:\n",
    "    \n",
    "        * cat\n",
    "        * dog\n",
    "    \"\"\"\n",
    "    \n",
    "    if \"cat\" in kwargs:\n",
    "        cat = kwargs.pop(\"cat\", False)\n",
    "        print(\"Cat = {}\".format(cat))\n",
    "        \n",
    "    if \"dog\" in kwargs:\n",
    "        dog = kwargs.pop(\"dog\", False)\n",
    "        print(\"Dog = {}\".format(dog))\n",
    "    \n",
    "    if kwargs:\n",
    "        raise TypeError(\"Unexpected kwargs: {}\".format(kwargs))\n",
    "\n",
    "# This will work.\n",
    "check_kw_arguments(cat = \"Mr Meow\", dog = \"Woofy\" )"
   ]
  },
  {
   "cell_type": "code",
   "execution_count": 25,
   "metadata": {},
   "outputs": [
    {
     "name": "stdout",
     "output_type": "stream",
     "text": [
      "Dog = Woofy\n"
     ]
    }
   ],
   "source": [
    "# This will work.\n",
    "check_kw_arguments(dog = \"Woofy\" )"
   ]
  },
  {
   "cell_type": "code",
   "execution_count": 26,
   "metadata": {},
   "outputs": [
    {
     "name": "stdout",
     "output_type": "stream",
     "text": [
      "Cat = Mr Meow\n"
     ]
    },
    {
     "ename": "TypeError",
     "evalue": "Unexpected kwargs: {'turtle': 'Swimmy Joe'}",
     "output_type": "error",
     "traceback": [
      "\u001b[1;31m---------------------------------------------------------------------------\u001b[0m",
      "\u001b[1;31mTypeError\u001b[0m                                 Traceback (most recent call last)",
      "\u001b[1;32m<ipython-input-26-16015a05529e>\u001b[0m in \u001b[0;36m<module>\u001b[1;34m()\u001b[0m\n\u001b[0;32m      1\u001b[0m \u001b[1;31m# This will error.\u001b[0m\u001b[1;33m\u001b[0m\u001b[1;33m\u001b[0m\u001b[0m\n\u001b[1;32m----> 2\u001b[1;33m \u001b[0mcheck_kw_arguments\u001b[0m\u001b[1;33m(\u001b[0m\u001b[0mcat\u001b[0m \u001b[1;33m=\u001b[0m \u001b[1;34m\"Mr Meow\"\u001b[0m\u001b[1;33m,\u001b[0m \u001b[0mturtle\u001b[0m \u001b[1;33m=\u001b[0m \u001b[1;34m\"Swimmy Joe\"\u001b[0m\u001b[1;33m)\u001b[0m\u001b[1;33m\u001b[0m\u001b[0m\n\u001b[0m",
      "\u001b[1;32m<ipython-input-24-c8936126f5ff>\u001b[0m in \u001b[0;36mcheck_kw_arguments\u001b[1;34m(**kwargs)\u001b[0m\n\u001b[0;32m     16\u001b[0m \u001b[1;33m\u001b[0m\u001b[0m\n\u001b[0;32m     17\u001b[0m     \u001b[1;32mif\u001b[0m \u001b[0mkwargs\u001b[0m\u001b[1;33m:\u001b[0m\u001b[1;33m\u001b[0m\u001b[0m\n\u001b[1;32m---> 18\u001b[1;33m         \u001b[1;32mraise\u001b[0m \u001b[0mTypeError\u001b[0m\u001b[1;33m(\u001b[0m\u001b[1;34m\"Unexpected kwargs: {}\"\u001b[0m\u001b[1;33m.\u001b[0m\u001b[0mformat\u001b[0m\u001b[1;33m(\u001b[0m\u001b[0mkwargs\u001b[0m\u001b[1;33m)\u001b[0m\u001b[1;33m)\u001b[0m\u001b[1;33m\u001b[0m\u001b[0m\n\u001b[0m\u001b[0;32m     19\u001b[0m \u001b[1;33m\u001b[0m\u001b[0m\n\u001b[0;32m     20\u001b[0m \u001b[0mcheck_kw_arguments\u001b[0m\u001b[1;33m(\u001b[0m\u001b[0mcat\u001b[0m \u001b[1;33m=\u001b[0m \u001b[1;34m\"Mr Meow\"\u001b[0m\u001b[1;33m,\u001b[0m \u001b[0mdog\u001b[0m \u001b[1;33m=\u001b[0m \u001b[1;34m\"Woofy\"\u001b[0m \u001b[1;33m)\u001b[0m\u001b[1;33m\u001b[0m\u001b[0m\n",
      "\u001b[1;31mTypeError\u001b[0m: Unexpected kwargs: {'turtle': 'Swimmy Joe'}"
     ]
    }
   ],
   "source": [
    "# This will error.\n",
    "check_kw_arguments(cat = \"Mr Meow\", turtle = \"Swimmy Joe\")"
   ]
  },
  {
   "cell_type": "code",
   "execution_count": 27,
   "metadata": {
    "collapsed": true
   },
   "outputs": [],
   "source": [
    "# This will also not error.\n",
    "check_kw_arguments()"
   ]
  }
 ],
 "metadata": {
  "kernelspec": {
   "display_name": "Python 3",
   "language": "python",
   "name": "python3"
  },
  "language_info": {
   "codemirror_mode": {
    "name": "ipython",
    "version": 3
   },
   "file_extension": ".py",
   "mimetype": "text/x-python",
   "name": "python",
   "nbconvert_exporter": "python",
   "pygments_lexer": "ipython3",
   "version": "3.6.1"
  }
 },
 "nbformat": 4,
 "nbformat_minor": 2
}
